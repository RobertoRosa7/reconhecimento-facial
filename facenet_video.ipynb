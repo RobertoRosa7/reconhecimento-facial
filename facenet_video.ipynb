{
 "cells": [
  {
   "cell_type": "code",
   "execution_count": 13,
   "metadata": {},
   "outputs": [],
   "source": [
    "import cv2\n",
    "import numpy as np\n",
    "import dlib\n",
    "import matplotlib.pyplot as plt\n",
    "\n",
    "from scipy.spatial import distance as dist\n",
    "from io import BytesIO\n",
    "from IPython.display import clear_output, Image, display\n",
    "from PIL import Image as Img"
   ]
  },
  {
   "cell_type": "code",
   "execution_count": 14,
   "metadata": {},
   "outputs": [],
   "source": [
    "FACE = list(range(17, 68))\n",
    "FACE_COMPLETA = list(range(0, 68))\n",
    "LABIO = list(range(48, 61))\n",
    "SOBRANCELHA_DIREITA = list(range(17, 22))\n",
    "SOBRANCELHA_ESQUERDA = list(range(22, 27))\n",
    "OLHO_DIREITO = list(range(36, 42))\n",
    "OLHO_ESQUERDO = list(range(42, 48))\n",
    "NARIZ = list(range(27, 35))\n",
    "MANDIBULA = list(range(0, 17))"
   ]
  },
  {
   "cell_type": "code",
   "execution_count": 15,
   "metadata": {},
   "outputs": [],
   "source": [
    "classificador_dlib_68_path = \"classificadores/shape_predictor_68_face_landmarks.dat\"\n",
    "classificador_dlib = dlib.shape_predictor(classificador_dlib_68_path)\n",
    "detector_face = dlib.get_frontal_face_detector()"
   ]
  },
  {
   "cell_type": "code",
   "execution_count": 16,
   "metadata": {},
   "outputs": [],
   "source": [
    "def anotar_rosto(imagem):\n",
    "    retangulos = detector_face(imagem, 1)\n",
    "    if len(retangulos) == 0:\n",
    "        return None\n",
    "        \n",
    "    for k, d in enumerate(retangulos):\n",
    "        print(\"identificado rosto \" + str(k))\n",
    "        cv2.rectangle(imagem, (d.left(), d.top()),\n",
    "                      (d.right(), d.bottom()), (255, 255, 0), 2)\n",
    "\n",
    "    return imagem"
   ]
  },
  {
   "cell_type": "code",
   "execution_count": 17,
   "metadata": {},
   "outputs": [],
   "source": [
    "def pontos_marcos_faciais(imagem):\n",
    "    retangulos = detector_face(imagem, 1)\n",
    "\n",
    "    if len(retangulos) == 0:\n",
    "        return None\n",
    "        \n",
    "    marcos = []\n",
    "    for ret in retangulos:\n",
    "        marcos.append(np.matrix([[p.x, p.y]\n",
    "                                 for p in classificador_dlib(imagem, ret).parts()]))\n",
    "    return marcos"
   ]
  },
  {
   "cell_type": "code",
   "execution_count": 18,
   "metadata": {},
   "outputs": [],
   "source": [
    "def anotar_marcos_faciais(imagem, marcos):\n",
    "    for marco in marcos:\n",
    "        for idx, ponto in enumerate(marco):\n",
    "            centro = (ponto[0, 0], ponto[0, 1])\n",
    "            cv2.circle(imagem, centro, 3, (255, 255, 0), -1)\n",
    "            cv2.putText(imagem, str(idx), centro,\n",
    "                        cv2.FONT_HERSHEY_COMPLEX, 0.8, (255, 255, 255), 2)\n",
    "    return imagem"
   ]
  },
  {
   "cell_type": "code",
   "execution_count": 19,
   "metadata": {},
   "outputs": [],
   "source": [
    "def padronizar_imagem(frame):\n",
    "    frame = cv2.cvtColor(frame, cv2.COLOR_BGR2RGB)\n",
    "    frame = cv2.resize(frame, (500, 400))\n",
    "    \n",
    "    return frame\n"
   ]
  },
  {
   "cell_type": "code",
   "execution_count": 20,
   "metadata": {},
   "outputs": [],
   "source": [
    "def exbir_video(frame):\n",
    "    img = Img.fromarray(frame, \"RGB\")\n",
    "    buffer = BytesIO()\n",
    "    img.save(buffer, format=\"JPEG\")\n",
    "    \n",
    "    display(Image(data=buffer.getvalue()))\n",
    "    clear_output(wait=True)\n"
   ]
  },
  {
   "cell_type": "code",
   "execution_count": 21,
   "metadata": {},
   "outputs": [],
   "source": [
    "def anotar_marcos_casca_convexa(imagem, marcos):\n",
    "    retangulos = detector_face(imagem, 1)\n",
    "\n",
    "    if len(retangulos) == 0:\n",
    "        return None\n",
    "\n",
    "    for idx, ret in enumerate(retangulos):\n",
    "        marco = marcos[idx]\n",
    "\n",
    "        ponto = cv2.convexHull(marco[OLHO_ESQUERDO])\n",
    "        cv2.drawContours(imagem, [ponto], 0, (255, 255, 0), 2)\n",
    "\n",
    "        ponto = cv2.convexHull(marco[OLHO_DIREITO])\n",
    "        cv2.drawContours(imagem, [ponto], 0, (255, 255, 0), 2)\n",
    "        \n",
    "    return imagem"
   ]
  },
  {
   "cell_type": "code",
   "execution_count": 26,
   "metadata": {},
   "outputs": [],
   "source": [
    "def anotar_marcos_casca_convexa_boca(imagem, marcos):\n",
    "    retangulos = detector_face(imagem, 1)\n",
    "\n",
    "    if len(retangulos) == 0:\n",
    "        return None\n",
    "\n",
    "    for idx, ret in enumerate(retangulos):\n",
    "        marco = marcos[idx]\n",
    "\n",
    "        ponto = cv2.convexHull(marco[LABIO])\n",
    "        cv2.drawContours(imagem, [ponto], 0, (0, 255, 0), 2)\n",
    "    return imagem"
   ]
  },
  {
   "cell_type": "code",
   "execution_count": 24,
   "metadata": {},
   "outputs": [],
   "source": [
    "def aspecto_razao_olhos(pontos_olhos):\n",
    "    a = dist.euclidean(pontos_olhos[1], pontos_olhos[5])\n",
    "    b = dist.euclidean(pontos_olhos[2], pontos_olhos[4])\n",
    "    c = dist.euclidean(pontos_olhos[0], pontos_olhos[3])\n",
    "    aspecto_razao = (a + b) / (2.0 * c)\n",
    "\n",
    "    return aspecto_razao\n"
   ]
  },
  {
   "cell_type": "code",
   "execution_count": 23,
   "metadata": {},
   "outputs": [],
   "source": [
    "def aspecto_razao_boca(pontos_boca):\n",
    "    a = dist.euclidean(pontos_boca[3], pontos_boca[9])\n",
    "    b = dist.euclidean(pontos_boca[2], pontos_boca[10])\n",
    "    c = dist.euclidean(pontos_boca[4], pontos_boca[8])\n",
    "    d = dist.euclidean(pontos_boca[0], pontos_boca[6])  # transversal\n",
    "    aspecto_razao = (a + b + c) / (3.0 * d)\n",
    "\n",
    "    return aspecto_razao\n"
   ]
  },
  {
   "cell_type": "code",
   "execution_count": 22,
   "metadata": {},
   "outputs": [
    {
     "name": "stdout",
     "output_type": "stream",
     "text": [
      "Interrompido\n"
     ]
    }
   ],
   "source": [
    "video = cv2.VideoCapture(\"../databases/videos/expressoes.mov\")\n",
    "try:\n",
    "    while (True):\n",
    "        capture_ok, frame = video.read()\n",
    "        if capture_ok:\n",
    "            frame = padronizar_imagem(frame)\n",
    "            exbir_video(frame)\n",
    "except KeyboardInterrupt:\n",
    "    video.release()\n",
    "    print(\"Interrompido\")\n"
   ]
  },
  {
   "cell_type": "code",
   "execution_count": 28,
   "metadata": {},
   "outputs": [
    {
     "name": "stdout",
     "output_type": "stream",
     "text": [
      "Interrompido\n"
     ]
    }
   ],
   "source": [
    "try:\n",
    "    ar_max = 0\n",
    "    video = cv2.VideoCapture(\"../databases/videos/bocejo.mov\")\n",
    "\n",
    "    while (True):\n",
    "        capture_ok, frame = video.read()\n",
    "        marcos_faciais = pontos_marcos_faciais(frame)\n",
    "\n",
    "        if marcos_faciais is not None:\n",
    "            ar_boca = aspecto_razao_boca(marcos_faciais[0][LABIO])\n",
    "            ar_boca = round(ar_boca, 3)\n",
    "\n",
    "            if ar_boca > ar_max:\n",
    "                ar_max = ar_boca\n",
    "\n",
    "            info = \"boca \" + str(ar_boca) + \" maximo \" + str(ar_max)\n",
    "            frame = anotar_marcos_casca_convexa_boca(frame, marcos_faciais)\n",
    "\n",
    "            cv2.putText(frame, info, (20, 50),\n",
    "                        cv2.FONT_HERSHEY_COMPLEX, 0.5, (255, 255, 0), 2)\n",
    "        exbir_video(frame)\n",
    "\n",
    "except KeyboardInterrupt:\n",
    "    video.release()\n",
    "    print(\"Interrompido\")\n"
   ]
  },
  {
   "cell_type": "code",
   "execution_count": 30,
   "metadata": {},
   "outputs": [
    {
     "name": "stdout",
     "output_type": "stream",
     "text": [
      "Interrompido\n"
     ]
    }
   ],
   "source": [
    "try:\n",
    "    min_olho_esq = 1\n",
    "    min_olho_dir = 1\n",
    "    video = cv2.VideoCapture(\"../databases/videos/olhos-fechados.mov\")\n",
    "\n",
    "    while (True):\n",
    "        capture_ok, frame = video.read()\n",
    "        frame = padronizar_imagem(frame)\n",
    "        marcos_faciais = pontos_marcos_faciais(frame)\n",
    "\n",
    "        if marcos_faciais is not None:\n",
    "            ar_olho_esq = aspecto_razao_olhos(\n",
    "                marcos_faciais[0][OLHO_ESQUERDO])\n",
    "            ar_olho_dir = aspecto_razao_olhos(\n",
    "                marcos_faciais[0][OLHO_DIREITO])\n",
    "\n",
    "            ar_olho_esq = round(ar_olho_esq, 3)\n",
    "            ar_olho_dir = round(ar_olho_dir, 3)\n",
    "\n",
    "            if ar_olho_esq < min_olho_esq:\n",
    "                min_olho_esq = ar_olho_esq\n",
    "\n",
    "            if ar_olho_dir < min_olho_dir:\n",
    "                min_olho_dir = ar_olho_dir\n",
    "\n",
    "            info_esq = \"Olho esquerdo \" + \\\n",
    "                str(ar_olho_esq) + \"mínimo \" + str(min_olho_esq)\n",
    "            info_dir = \"Olho direito \" + \\\n",
    "                str(ar_olho_dir) + \"mínimo \" + str(min_olho_dir)\n",
    "\n",
    "            frame = anotar_marcos_casca_convexa(frame, marcos_faciais)\n",
    "            \n",
    "            cv2.putText(frame, info_esq, (20, 30),\n",
    "                        cv2.FONT_HERSHEY_COMPLEX, 0.5, (255, 255, 0), 2)\n",
    "\n",
    "            cv2.putText(frame, info_dir, (20, 50),\n",
    "                        cv2.FONT_HERSHEY_COMPLEX, 0.5, (255, 255, 0), 2)\n",
    "        exbir_video(frame)\n",
    "except KeyboardInterrupt:\n",
    "    video.release()\n",
    "    print(\"Interrompido\")\n"
   ]
  }
 ],
 "metadata": {
  "kernelspec": {
   "display_name": "Python 3.8.0 ('.venv': venv)",
   "language": "python",
   "name": "python3"
  },
  "language_info": {
   "codemirror_mode": {
    "name": "ipython",
    "version": 3
   },
   "file_extension": ".py",
   "mimetype": "text/x-python",
   "name": "python",
   "nbconvert_exporter": "python",
   "pygments_lexer": "ipython3",
   "version": "3.8.0"
  },
  "orig_nbformat": 4,
  "vscode": {
   "interpreter": {
    "hash": "01c00ab95f5ecf7d82fd0eb72fa4c57e2bad76a7e60e2d0599a2c5a1a7ba63f9"
   }
  }
 },
 "nbformat": 4,
 "nbformat_minor": 2
}
